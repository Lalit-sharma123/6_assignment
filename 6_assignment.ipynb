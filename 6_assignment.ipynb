{
  "nbformat": 4,
  "nbformat_minor": 0,
  "metadata": {
    "colab": {
      "provenance": []
    },
    "kernelspec": {
      "name": "python3",
      "display_name": "Python 3"
    },
    "language_info": {
      "name": "python"
    }
  },
  "cells": [
    {
      "cell_type": "markdown",
      "source": [
        "\n",
        "Theoretical Questions:\n"
      ],
      "metadata": {
        "id": "aoEQ2uywKNfp"
      }
    },
    {
      "cell_type": "markdown",
      "source": [
        "Question 1:>>  Explain the purpose and advantages of NumPy in scientific computing and data analysis. How does it\n",
        "enhance Python's capabilities for numerical operations?"
      ],
      "metadata": {
        "id": "mCd9SnAJKRUx"
      }
    },
    {
      "cell_type": "markdown",
      "source": [
        "Ans 1:>> NumPy, short for Numerical Python, is a fundamental library for scientific computing and data analysis in Python.\n",
        "\n",
        "Purpose of NumPy:\n",
        "\n",
        "1:Efficient Array Computations: NumPy provides support forr large,multidimensional array and matrices, along with a collection of mathematical functions to operate on these arrays.\n",
        "\n",
        "2: Foundation of other libaries: Many other scientific computing and data analysis libraries, such as Pandas, SciPy, and Matplotlib, are built on top of NumPy\n",
        "\n",
        "Advantages of NumPy\n",
        "1.performance\n",
        "2.Memory Efficiency\n",
        "3.Vectorization\n",
        "4.Broadcasting\n",
        "\n",
        "\n"
      ],
      "metadata": {
        "id": "jbNdTchYKiyh"
      }
    },
    {
      "cell_type": "markdown",
      "source": [
        "Question 2:>>  Compare and contrast np.mean() and np.average() functions in NumPy. When would you use one over the\n",
        "other"
      ],
      "metadata": {
        "id": "wnazOavjL0Ch"
      }
    },
    {
      "cell_type": "markdown",
      "source": [
        "Ans 2: Both np.mean() and np.average() in NumPy are used to calculate the average of array elements, but they have some key differences and specific use cases:\n",
        "\n",
        "1> np.mean()\n",
        "Purpose: Calculates the arithmetic mean (average) of the elements in an array.\n",
        "\n",
        "Usage: np.mean(array, axis=None)\n",
        "\n",
        "Weights: Does not support weights; all elements are considered equally.\n",
        "\n",
        "2> np.average()\n",
        "Purpose: Calculates the weighted average if weights are provided; otherwise, it calculates the arithmetic mean.\n",
        "\n",
        "Usage: np.average(array, axis=None, weights=None)\n",
        "\n",
        "Weights: Supports weights, allowing for the calculation of a weighted average.\n",
        "\n",
        "\n",
        "\n"
      ],
      "metadata": {
        "id": "OOWQizPCL9Xp"
      }
    },
    {
      "cell_type": "markdown",
      "source": [
        "Question 3:>Describe the methods for reversing a NumPy array along different axes. Provide examples for 1D and 2D\n",
        "arrays"
      ],
      "metadata": {
        "id": "yx-zYakHMl0p"
      }
    },
    {
      "cell_type": "markdown",
      "source": [
        "Ans 3:> Methods of reversing a numpy array\n",
        "\n",
        "1: Using np.flip()\n",
        "\n",
        "This function reverses the order of elements in an array along the specified axis.\n",
        "\n",
        "Syntax: np.flip(array,axis)\n",
        "\n",
        "\n",
        "2: Using np.flipud() and np.fliplr():\n",
        "\n",
        "np.flipud() flips an array vertically (up/down).\n",
        "np.fliplr() flips an array horizontally (left/right).\n",
        "\n",
        "\n",
        "3: Using array slicing :    \n",
        "\n",
        "you can reverse an array using slicing with [::-1]\n"
      ],
      "metadata": {
        "id": "xyMbPt6gNbmZ"
      }
    },
    {
      "cell_type": "code",
      "source": [
        "# example  using np.flip()\n",
        "\n",
        "# 1d array\n",
        "\n",
        "import numpy as np\n",
        "\n",
        "arr_1d=np.array([1,2,3,4,5])\n",
        "\n",
        "reversed_1d=np.flip(arr_1d)\n",
        "print(\"original array is \",arr_1d)\n",
        "\n",
        "print(\"Reversed array is: \",reversed_1d)\n",
        "\n",
        "\n",
        "# 2d array\n",
        "arr_2d=np.array([[1,2,3],[4,5,6],[7,8,9]])\n",
        "\n",
        "reversed_2d=np.flip(arr_2d,axis=0)\n",
        "print(\"Original 2darray is: \",arr_2d)\n",
        "print(\"Reversed 2d array is: \",arr_2d)\n"
      ],
      "metadata": {
        "colab": {
          "base_uri": "https://localhost:8080/"
        },
        "id": "fsX33rRVOllj",
        "outputId": "f21f91aa-2597-49f9-99f8-0bb7ee9dc87d"
      },
      "execution_count": 5,
      "outputs": [
        {
          "output_type": "stream",
          "name": "stdout",
          "text": [
            "original array is  [1 2 3 4 5]\n",
            "Reversed array is:  [5 4 3 2 1]\n",
            "Original 2darray is:  [[1 2 3]\n",
            " [4 5 6]\n",
            " [7 8 9]]\n",
            "Reversed 2d array is:  [[1 2 3]\n",
            " [4 5 6]\n",
            " [7 8 9]]\n"
          ]
        }
      ]
    },
    {
      "cell_type": "code",
      "source": [
        "# Using flipud() and fliplr()\n",
        "import numpy as np\n",
        "\n",
        "# 2D array\n",
        "arr_2d = np.array([[1, 2, 3], [4, 5, 6], [7, 8, 9]])\n",
        "flipped_ud = np.flipud(arr_2d)  # Flip up/down\n",
        "flipped_lr = np.fliplr(arr_2d)  # Flip left/right\n",
        "print(\"Original 2D array:\\n\", arr_2d)\n",
        "print(\"Flipped up/down:\\n\", flipped_ud)\n",
        "print(\"Flipped left/right:\\n\", flipped_lr)\n"
      ],
      "metadata": {
        "colab": {
          "base_uri": "https://localhost:8080/"
        },
        "id": "BPfMtDdUPaBd",
        "outputId": "2a3f64fc-31e3-4ce1-8dcf-c9509d3b9f1a"
      },
      "execution_count": 6,
      "outputs": [
        {
          "output_type": "stream",
          "name": "stdout",
          "text": [
            "Original 2D array:\n",
            " [[1 2 3]\n",
            " [4 5 6]\n",
            " [7 8 9]]\n",
            "Flipped up/down:\n",
            " [[7 8 9]\n",
            " [4 5 6]\n",
            " [1 2 3]]\n",
            "Flipped left/right:\n",
            " [[3 2 1]\n",
            " [6 5 4]\n",
            " [9 8 7]]\n"
          ]
        }
      ]
    },
    {
      "cell_type": "code",
      "source": [
        "import numpy as np\n",
        "\n",
        "# 1D array\n",
        "arr_1d = np.array([1, 2, 3, 4, 5])\n",
        "reversed_1d = arr_1d[::-1]\n",
        "print(\"Original 1D array:\", arr_1d)\n",
        "print(\"Reversed 1D array:\", reversed_1d)\n",
        "\n",
        "# 2D array\n",
        "arr_2d = np.array([[1, 2, 3], [4, 5, 6], [7, 8, 9]])\n",
        "reversed_2d_axis0 = arr_2d[::-1, :]  # Reverse along rows\n",
        "reversed_2d_axis1 = arr_2d[:, ::-1]  # Reverse along columns\n",
        "print(\"Original 2D array:\\n\", arr_2d)\n",
        "print(\"Reversed along axis 0 (rows):\\n\", reversed_2d_axis0)\n",
        "print(\"Reversed along axis 1 (columns):\\n\", reversed_2d_axis1)\n"
      ],
      "metadata": {
        "colab": {
          "base_uri": "https://localhost:8080/"
        },
        "id": "HrVVDpuZS7Nc",
        "outputId": "e6385da8-92f4-4e4c-c619-8c69758c3aad"
      },
      "execution_count": 10,
      "outputs": [
        {
          "output_type": "stream",
          "name": "stdout",
          "text": [
            "Original 1D array: [1 2 3 4 5]\n",
            "Reversed 1D array: [5 4 3 2 1]\n",
            "Original 2D array:\n",
            " [[1 2 3]\n",
            " [4 5 6]\n",
            " [7 8 9]]\n",
            "Reversed along axis 0 (rows):\n",
            " [[7 8 9]\n",
            " [4 5 6]\n",
            " [1 2 3]]\n",
            "Reversed along axis 1 (columns):\n",
            " [[3 2 1]\n",
            " [6 5 4]\n",
            " [9 8 7]]\n"
          ]
        }
      ]
    },
    {
      "cell_type": "markdown",
      "source": [
        "Question 4:  How can you determine the data type of elements in a NumPy array? Discuss the importance of data types\n",
        "in memory management and performance"
      ],
      "metadata": {
        "id": "peF7ipisTI2s"
      }
    },
    {
      "cell_type": "markdown",
      "source": [
        "Ans 4: in numpy array we can determine the data type of element in an array using the .dtype\n",
        "\n",
        "\n",
        "Importance of Data Types in Memory Management and Performance:\n",
        "\n",
        "\n",
        "1.Memory Efficiency: Data types in numpy define (in bytes) of the elements in the array.\n",
        "2.Performance:> numpy arrays are stored in contiguous blocks of memory , making operations on them faster\n",
        "\n",
        "3.Consistency and Compatibility: in scientific computing,its cruicial to maintain consistency across data types for operations like matrix multiplication or element-wise operations\n"
      ],
      "metadata": {
        "id": "8zstDa2-Gp7X"
      }
    },
    {
      "cell_type": "code",
      "source": [
        "# example of .dtype\n",
        "import numpy as np\n",
        "arr=np.array([1,2,3,4,5])\n",
        "print(arr.dtype)"
      ],
      "metadata": {
        "colab": {
          "base_uri": "https://localhost:8080/"
        },
        "id": "4p3HNLkhTS3b",
        "outputId": "768a0ef4-1c04-4fac-fbb1-03e6dc00e734"
      },
      "execution_count": 1,
      "outputs": [
        {
          "output_type": "stream",
          "name": "stdout",
          "text": [
            "int64\n"
          ]
        }
      ]
    },
    {
      "cell_type": "markdown",
      "source": [
        "Question 5:  Define ndarrays in NumPy and explain their key features. How do they differ from standard Python lists?"
      ],
      "metadata": {
        "id": "wBkIgSntW93r"
      }
    },
    {
      "cell_type": "markdown",
      "source": [
        "Ans 5: An ndarray (short for N-dimensional array) is the core data structure in NumPy. It is a multi-dimensional container for homogeneous data, meaning all elements in an ndarray must be of the same data type\n",
        "\n",
        "key Features of ndarray:\n",
        "\n",
        "1.Multi-Dimensional\n",
        "\n",
        "2.Homogeneous Data\n",
        "\n",
        "3. Efficient memory usage\n",
        "\n",
        "Differences Between ndarray and Python Lists:>>\n",
        "\n",
        "1.Data Type Consistency:\n",
        "ndarray: All elements must be of the same data type.\n",
        "Python Lists: Can contain elements of different data types.\n",
        "\n",
        "2.Functionality:\n",
        "ndarray: Supports a wide range of mathematical and statistical operations directly.\n",
        "\n",
        "Python Lists: Requires additional libraries or manual implementation for advanced numerical operations.\n",
        "\n",
        "\n"
      ],
      "metadata": {
        "id": "QMN797moXem0"
      }
    },
    {
      "cell_type": "code",
      "source": [
        "#example\n",
        "import numpy as np\n",
        "\n",
        "# Creating an ndarray\n",
        "arr = np.array([1, 2, 3, 4, 5])\n",
        "print(\"ndarray:\", arr)\n",
        "print(\"Data type:\", arr.dtype)\n",
        "\n",
        "# Creating a Python list\n",
        "lst = [1, 2, 3, 4, 5]\n",
        "print(\"Python list:\", lst)\n",
        "print(\"Data type:\", type(lst[0]))\n"
      ],
      "metadata": {
        "colab": {
          "base_uri": "https://localhost:8080/"
        },
        "id": "hc0XmV69YNPu",
        "outputId": "11d75935-5eb3-4c3d-8716-5bf030502ad7"
      },
      "execution_count": 11,
      "outputs": [
        {
          "output_type": "stream",
          "name": "stdout",
          "text": [
            "ndarray: [1 2 3 4 5]\n",
            "Data type: int64\n",
            "Python list: [1, 2, 3, 4, 5]\n",
            "Data type: <class 'int'>\n"
          ]
        }
      ]
    },
    {
      "cell_type": "markdown",
      "source": [
        "Question 6:  Analyze the performance benefits of NumPy arrays over Python lists for large-scale numerical operations."
      ],
      "metadata": {
        "id": "IZSfV7DhYVpG"
      }
    },
    {
      "cell_type": "markdown",
      "source": [
        "Ans 6: NumPy arrays offer significant performance benefits over Python lists, especially for large-scale numerical operations. Here are some key reasons why:\n",
        "\n",
        "\n",
        "1.memory efficiency\n",
        "2.Performance\n",
        "3.Advanced mathmatical functions\n",
        "\n",
        "\n"
      ],
      "metadata": {
        "id": "2jxKXqgUYgod"
      }
    },
    {
      "cell_type": "code",
      "source": [
        "# example\n",
        "import numpy as np\n",
        "import time\n",
        "\n",
        "# Using a Python list\n",
        "size = 1000000\n",
        "py_list = list(range(size))\n",
        "start_time = time.time()\n",
        "py_list = [x * 2 for x in py_list]\n",
        "end_time = time.time()\n",
        "print(\"Time taken using Python list:\", end_time - start_time)\n",
        "\n",
        "# Using a NumPy array\n",
        "np_array = np.arange(size)\n",
        "start_time = time.time()\n",
        "np_array = np_array * 2\n",
        "end_time = time.time()\n",
        "print(\"Time taken using NumPy array:\", end_time - start_time)\n"
      ],
      "metadata": {
        "colab": {
          "base_uri": "https://localhost:8080/"
        },
        "id": "3teZ1JiQZTGm",
        "outputId": "b70bb6e1-2ab0-442b-86f3-deeab136a4d6"
      },
      "execution_count": 12,
      "outputs": [
        {
          "output_type": "stream",
          "name": "stdout",
          "text": [
            "Time taken using Python list: 0.2919611930847168\n",
            "Time taken using NumPy array: 0.031565189361572266\n"
          ]
        }
      ]
    },
    {
      "cell_type": "markdown",
      "source": [
        "Question 7: Compare vstack() and hstack() functions in NumPy. Provide examples demonstrating their usage and\n",
        "output."
      ],
      "metadata": {
        "id": "L7jzVtv-ZhKc"
      }
    },
    {
      "cell_type": "markdown",
      "source": [
        "Ans 7: The vstack() and hstack() functions in NumPy are used to stack arrays vertically and horizontally, respectively\n",
        "\n",
        "\n",
        "1. np.vstack()\n",
        "\n",
        " Purpose: Stacks arrays in sequence vertically (row-wise)\n",
        "\n",
        "Usage: np.vstack(tup)\n",
        "\n",
        "\n",
        "\n",
        "2. np.hstack()\n",
        "\n",
        "Purpose: Stacks arrays in sequence horizontally (column-wise)\n",
        "\n",
        "Usage: np.hstack(tup)\n"
      ],
      "metadata": {
        "id": "ss45xpLEZ6gu"
      }
    },
    {
      "cell_type": "code",
      "source": [
        "# example np.vstack()\n",
        "\n",
        "import numpy as np\n",
        "\n",
        "# 1D arrays\n",
        "a = np.array([1, 2, 3])\n",
        "b = np.array([4, 5, 6])\n",
        "vstacked_1d = np.vstack((a, b))\n",
        "print(\"vstacked 1D arrays:\\n\", vstacked_1d)\n",
        "\n",
        "# 2D arrays\n",
        "a = np.array([[1, 2], [3, 4]])\n",
        "b = np.array([[5, 6], [7, 8]])\n",
        "vstacked_2d = np.vstack((a, b))\n",
        "print(\"vstacked 2D arrays:\\n\", vstacked_2d)\n"
      ],
      "metadata": {
        "colab": {
          "base_uri": "https://localhost:8080/"
        },
        "id": "p-rpSlsLaZX3",
        "outputId": "68aa43a9-266e-4a22-c832-5ff7e01dad74"
      },
      "execution_count": 13,
      "outputs": [
        {
          "output_type": "stream",
          "name": "stdout",
          "text": [
            "vstacked 1D arrays:\n",
            " [[1 2 3]\n",
            " [4 5 6]]\n",
            "vstacked 2D arrays:\n",
            " [[1 2]\n",
            " [3 4]\n",
            " [5 6]\n",
            " [7 8]]\n"
          ]
        }
      ]
    },
    {
      "cell_type": "code",
      "source": [
        "# example of np.hstack()\n",
        "import numpy as np\n",
        "\n",
        "# 1D arrays\n",
        "a = np.array([1, 2, 3])\n",
        "b = np.array([4, 5, 6])\n",
        "hstacked_1d = np.hstack((a, b))\n",
        "print(\"hstacked 1D arrays:\\n\", hstacked_1d)\n",
        "\n",
        "# 2D arrays\n",
        "a = np.array([[1, 2], [3, 4]])\n",
        "b = np.array([[5, 6], [7, 8]])\n",
        "hstacked_2d = np.hstack((a, b))\n",
        "print(\"hstacked 2D arrays:\\n\", hstacked_2d)"
      ],
      "metadata": {
        "colab": {
          "base_uri": "https://localhost:8080/"
        },
        "id": "meu6rtKear5Q",
        "outputId": "e0c0338a-edee-450c-e465-455cf40c5caa"
      },
      "execution_count": 14,
      "outputs": [
        {
          "output_type": "stream",
          "name": "stdout",
          "text": [
            "hstacked 1D arrays:\n",
            " [1 2 3 4 5 6]\n",
            "hstacked 2D arrays:\n",
            " [[1 2 5 6]\n",
            " [3 4 7 8]]\n"
          ]
        }
      ]
    },
    {
      "cell_type": "markdown",
      "source": [
        "Question 8: Explain the differences between fliplr() and flipud() methods in NumPy, including their effects on various\n",
        "array dimensions."
      ],
      "metadata": {
        "id": "5nE-mEbba8al"
      }
    },
    {
      "cell_type": "markdown",
      "source": [
        "Ans 8:\n",
        "\n",
        "1. np.fliplr()\n",
        "Purpose: Flips the array in the left/right direction (horizontally)\n",
        "\n",
        "Axis: Operates along axis 1 (columns)\n",
        "\n",
        "Usage: np.fliplr(array)\n",
        "\n",
        "Effect: Reverses the order of elements in each row, while the rows themselves remain in the same order.\n",
        "\n",
        "\n",
        "2.np.flipud()\n",
        "Purpose: Flips the array in the up/down direction (vertically)\n",
        "\n",
        "Axis: Operates along axis 0 (rows)\n",
        "\n",
        "Usage: np.flipud(array)\n",
        "\n",
        "Effect: Reverses the order of rows, while the columns themselves remain in the same order.\n"
      ],
      "metadata": {
        "id": "Y3j8zhXXbQFV"
      }
    },
    {
      "cell_type": "code",
      "source": [
        "# example fliplr()\n",
        "import numpy as np\n",
        "\n",
        "# 2D array\n",
        "arr_2d = np.array([[1, 2, 3], [4, 5, 6], [7, 8, 9]])\n",
        "flipped_lr = np.fliplr(arr_2d)\n",
        "print(\"Original 2D array:\\n\", arr_2d)\n",
        "print(\"Flipped left/right:\\n\", flipped_lr)"
      ],
      "metadata": {
        "colab": {
          "base_uri": "https://localhost:8080/"
        },
        "id": "eXJuUZ9IbiCG",
        "outputId": "3b91253c-40fa-4482-e65d-83547106637e"
      },
      "execution_count": 15,
      "outputs": [
        {
          "output_type": "stream",
          "name": "stdout",
          "text": [
            "Original 2D array:\n",
            " [[1 2 3]\n",
            " [4 5 6]\n",
            " [7 8 9]]\n",
            "Flipped left/right:\n",
            " [[3 2 1]\n",
            " [6 5 4]\n",
            " [9 8 7]]\n"
          ]
        }
      ]
    },
    {
      "cell_type": "code",
      "source": [
        "# example of flipud\n",
        "import numpy as np\n",
        "\n",
        "# 2D array\n",
        "arr_2d = np.array([[1, 2, 3], [4, 5, 6], [7, 8, 9]])\n",
        "flipped_ud = np.flipud(arr_2d)\n",
        "print(\"Original 2D array:\\n\", arr_2d)\n",
        "print(\"Flipped up/down:\\n\", flipped_ud)\n",
        "\n"
      ],
      "metadata": {
        "colab": {
          "base_uri": "https://localhost:8080/"
        },
        "id": "vf7ybWBAbuhQ",
        "outputId": "83caf68e-14e6-43a8-b3be-4c754c92b81d"
      },
      "execution_count": 16,
      "outputs": [
        {
          "output_type": "stream",
          "name": "stdout",
          "text": [
            "Original 2D array:\n",
            " [[1 2 3]\n",
            " [4 5 6]\n",
            " [7 8 9]]\n",
            "Flipped up/down:\n",
            " [[7 8 9]\n",
            " [4 5 6]\n",
            " [1 2 3]]\n"
          ]
        }
      ]
    },
    {
      "cell_type": "markdown",
      "source": [
        "Question 9:  Discuss the functionality of the array_split() method in NumPy. How does it handle uneven splits?"
      ],
      "metadata": {
        "id": "HQiTr45cb-G3"
      }
    },
    {
      "cell_type": "markdown",
      "source": [
        "Ans: The array_split() method in NumPy is used to split an array into multiple sub-arrays. It is particularly useful when you need to divide an array into sections that may not be of equal size.\n",
        "\n",
        "\n",
        "Functionality of array_split()\n",
        "\n",
        "Syntax: np.array_split(ary, indices_or_sections, axis=0)\n",
        "\n",
        "\n",
        "\n",
        "\n"
      ],
      "metadata": {
        "id": "i0u0iIWJcPqe"
      }
    },
    {
      "cell_type": "code",
      "source": [
        "# example\n",
        "import numpy as np\n",
        "\n",
        "# 1D array\n",
        "arr = np.arange(9)\n",
        "# Split into 4 parts\n",
        "split_arr = np.array_split(arr, 4)\n",
        "print(\"Original array:\", arr)\n",
        "print(\"Split arrays:\", split_arr)\n"
      ],
      "metadata": {
        "colab": {
          "base_uri": "https://localhost:8080/"
        },
        "id": "t_vQkZhxcj2v",
        "outputId": "59469002-d0e2-43ab-c737-cc5b9748edff"
      },
      "execution_count": 17,
      "outputs": [
        {
          "output_type": "stream",
          "name": "stdout",
          "text": [
            "Original array: [0 1 2 3 4 5 6 7 8]\n",
            "Split arrays: [array([0, 1, 2]), array([3, 4]), array([5, 6]), array([7, 8])]\n"
          ]
        }
      ]
    },
    {
      "cell_type": "markdown",
      "source": [
        "Question 10:  Explain the concepts of vectorization and broadcasting in NumPy. How do they contribute to efficient array\n",
        "operations"
      ],
      "metadata": {
        "id": "p7gzL-_Ncv4P"
      }
    },
    {
      "cell_type": "markdown",
      "source": [
        "Ans 10:\n",
        " Vectorization in NumPy:>>Vectorization refers to the process of performing operations on entire arrays without the need for explicit loops\n",
        "\n",
        "\n",
        "Broadcasting in NumPy:Broadcasting describes how NumPy handles arrays with different shapes during arithmetic operations. When performing operations on arrays of different shapes, NumPy automatically expands the smaller array to match the shape of the larger array without making unnecessary copies of data"
      ],
      "metadata": {
        "id": "w2GR7jfpc_wO"
      }
    },
    {
      "cell_type": "code",
      "source": [
        "# example  of vectorization\n",
        "\n",
        "import numpy as np\n",
        "\n",
        "# Using a loop\n",
        "arr = np.array([1, 2, 3, 4, 5])\n",
        "result_loop = []\n",
        "for x in arr:\n",
        "    result_loop.append(x * 2)\n",
        "result_loop = np.array(result_loop)\n",
        "print(\"Result using loop:\", result_loop)\n",
        "\n",
        "# Using vectorization\n",
        "result_vectorized = arr * 2\n",
        "print(\"Result using vectorization:\", result_vectorized)\n"
      ],
      "metadata": {
        "colab": {
          "base_uri": "https://localhost:8080/"
        },
        "id": "Es6KT-HCdVav",
        "outputId": "73abc5ac-7d12-4dbd-f5f0-691dcaf291e9"
      },
      "execution_count": 18,
      "outputs": [
        {
          "output_type": "stream",
          "name": "stdout",
          "text": [
            "Result using loop: [ 2  4  6  8 10]\n",
            "Result using vectorization: [ 2  4  6  8 10]\n"
          ]
        }
      ]
    },
    {
      "cell_type": "code",
      "source": [
        "# using Broadcasting\n",
        "import numpy as np\n",
        "\n",
        "# Arrays of different shapes\n",
        "a = np.array([1, 2, 3])\n",
        "b = np.array([[1], [2], [3]])\n",
        "\n",
        "# Broadcasting\n",
        "result = a + b\n",
        "print(\"Array a:\\n\", a)\n",
        "print(\"Array b:\\n\", b)\n",
        "print(\"Result of broadcasting:\\n\", result)\n",
        "\n"
      ],
      "metadata": {
        "colab": {
          "base_uri": "https://localhost:8080/"
        },
        "id": "mPbqLvZ6dqvj",
        "outputId": "56dca912-c83c-442c-d940-c03029a5336f"
      },
      "execution_count": 19,
      "outputs": [
        {
          "output_type": "stream",
          "name": "stdout",
          "text": [
            "Array a:\n",
            " [1 2 3]\n",
            "Array b:\n",
            " [[1]\n",
            " [2]\n",
            " [3]]\n",
            "Result of broadcasting:\n",
            " [[2 3 4]\n",
            " [3 4 5]\n",
            " [4 5 6]]\n"
          ]
        }
      ]
    },
    {
      "cell_type": "markdown",
      "source": [
        "PRACTICAL QUESTIONS:\n"
      ],
      "metadata": {
        "id": "Zl5l9_36d2yo"
      }
    },
    {
      "cell_type": "markdown",
      "source": [
        "Question 1:Create a 3x3 NumPy array with random integers between 1 and 100. Then, interchange its rows and columns"
      ],
      "metadata": {
        "id": "logkBKzud_no"
      }
    },
    {
      "cell_type": "code",
      "source": [
        "arr=np.random.randint(1,100,(3,3))\n",
        "print('original numpy array is: ')\n",
        "print(arr)\n",
        "\n",
        "# interchange\n",
        "print(\"After interchange array is :\")\n",
        "\n",
        "print(arr.T)\n"
      ],
      "metadata": {
        "colab": {
          "base_uri": "https://localhost:8080/"
        },
        "id": "v53m9CkbeEYw",
        "outputId": "f67c987e-dff7-4728-eac7-f2ae161812b8"
      },
      "execution_count": 30,
      "outputs": [
        {
          "output_type": "stream",
          "name": "stdout",
          "text": [
            "original numpy array is: \n",
            "[[28 89 63]\n",
            " [90 84 35]\n",
            " [62 65 37]]\n",
            "After interchange array is :\n",
            "[[28 90 62]\n",
            " [89 84 65]\n",
            " [63 35 37]]\n"
          ]
        }
      ]
    },
    {
      "cell_type": "markdown",
      "source": [
        "Question 2:  Generate a 1D NumPy array with 10 elements. Reshape it into a 2x5 array, then into a 5x2 array"
      ],
      "metadata": {
        "id": "NXNVosRPgFtZ"
      }
    },
    {
      "cell_type": "code",
      "source": [
        "arr_1d=np.arange(10)\n",
        "print(\"original 1d_array is :\")\n",
        "print(arr_1d)\n",
        "print()\n",
        "print(\"after reshape array is :\")\n",
        "arr_1d.reshape(2,5)"
      ],
      "metadata": {
        "colab": {
          "base_uri": "https://localhost:8080/"
        },
        "id": "-w2VGGe3gKfQ",
        "outputId": "cc7a0d8f-d1f6-4a94-a52b-6a4c17fff1b0"
      },
      "execution_count": 40,
      "outputs": [
        {
          "output_type": "stream",
          "name": "stdout",
          "text": [
            "original 1d_array is :\n",
            "[0 1 2 3 4 5 6 7 8 9]\n",
            "\n",
            "after reshape array is :\n"
          ]
        },
        {
          "output_type": "execute_result",
          "data": {
            "text/plain": [
              "array([[0, 1, 2, 3, 4],\n",
              "       [5, 6, 7, 8, 9]])"
            ]
          },
          "metadata": {},
          "execution_count": 40
        }
      ]
    },
    {
      "cell_type": "markdown",
      "source": [
        "Question 3: Create a 4x4 NumPy array with random float values. Add a border of zeros around it, resulting in a 6x6 array"
      ],
      "metadata": {
        "id": "e3XgoLIxhoGQ"
      }
    },
    {
      "cell_type": "code",
      "source": [
        "import numpy as np\n",
        "arr_4 = np.random.rand(4,4)\n",
        "print(\"Original array 4*4:\\n\",arr_4)\n",
        "\n",
        "#add border of zeros around the 4*4\n",
        "\n",
        "arr_6=np.pad(arr_4,pad_width=1,mode='constant',constant_values=0)\n",
        "\n",
        "print(\"6*6 array with border of zeros:\\n\",arr_6)"
      ],
      "metadata": {
        "colab": {
          "base_uri": "https://localhost:8080/"
        },
        "id": "JwPihjashs05",
        "outputId": "8f95f69f-de20-4d0c-9cba-4967f7fe33ff"
      },
      "execution_count": 12,
      "outputs": [
        {
          "output_type": "stream",
          "name": "stdout",
          "text": [
            "Original array 4*4:\n",
            " [[0.37045898 0.97003021 0.11714076 0.22313417]\n",
            " [0.10093392 0.37191699 0.31090105 0.94375339]\n",
            " [0.58954702 0.03001273 0.99329302 0.61170616]\n",
            " [0.78219597 0.99391658 0.85023313 0.50848103]]\n",
            "6*6 array with border of zeros:\n",
            " [[0.         0.         0.         0.         0.         0.        ]\n",
            " [0.         0.37045898 0.97003021 0.11714076 0.22313417 0.        ]\n",
            " [0.         0.10093392 0.37191699 0.31090105 0.94375339 0.        ]\n",
            " [0.         0.58954702 0.03001273 0.99329302 0.61170616 0.        ]\n",
            " [0.         0.78219597 0.99391658 0.85023313 0.50848103 0.        ]\n",
            " [0.         0.         0.         0.         0.         0.        ]]\n"
          ]
        }
      ]
    },
    {
      "cell_type": "markdown",
      "source": [
        "Question 4: Using NumPy, create an array of integers from 10 to 60 with a step of 5"
      ],
      "metadata": {
        "id": "5lqMG9NKD6VO"
      }
    },
    {
      "cell_type": "code",
      "source": [
        "import numpy as np\n",
        "\n",
        "# Create an array of integers from 10 to 60 with a step of 5\n",
        "array = np.arange(10, 60, 5)\n",
        "print(\"Array from 10 to 60 with step 5:\", array)\n"
      ],
      "metadata": {
        "colab": {
          "base_uri": "https://localhost:8080/"
        },
        "id": "f1PDPdm_D5HO",
        "outputId": "8bb22cba-6265-4d66-e822-f45f853deb9c"
      },
      "execution_count": 59,
      "outputs": [
        {
          "output_type": "stream",
          "name": "stdout",
          "text": [
            "Array from 10 to 60 with step 5: [10 15 20 25 30 35 40 45 50 55]\n"
          ]
        }
      ]
    },
    {
      "cell_type": "markdown",
      "source": [
        "Question 5:  Create a NumPy array of strings ['python', 'numpy', 'pandas']. Apply different case transformations\n",
        "(uppercase, lowercase, title case, etc.) to each element."
      ],
      "metadata": {
        "id": "orNGycvv3Qdf"
      }
    },
    {
      "cell_type": "code",
      "source": [
        "import numpy as np\n",
        "str_lst=['python','numpy','pandas']\n",
        "upper_case=np.char.upper(str_lst)\n",
        "print(\"Uppercase: \",upper_case)\n",
        "\n",
        "# into lowecase\n",
        "\n",
        "lower_case= np.char.lower(str_lst)\n",
        "print(\"Lowercase: \",lower_case)\n",
        "\n",
        "#into title\n",
        "title_arr=np.char.title(str_lst)\n",
        "print(\"Title: \",title_arr)\n",
        "\n",
        "#swap case:\n",
        "\n",
        "swapcase_arr=np.char.swapcase(str_lst)\n",
        "print(\"Swapcase: \",swapcase_arr)"
      ],
      "metadata": {
        "colab": {
          "base_uri": "https://localhost:8080/"
        },
        "id": "03Yxxuk-3YQZ",
        "outputId": "aab2a508-fe29-4d3b-c105-4bb249f35dbc"
      },
      "execution_count": 22,
      "outputs": [
        {
          "output_type": "stream",
          "name": "stdout",
          "text": [
            "Uppercase:  ['PYTHON' 'NUMPY' 'PANDAS']\n",
            "Lowercase:  ['python' 'numpy' 'pandas']\n",
            "Title:  ['Python' 'Numpy' 'Pandas']\n",
            "Swapcase:  ['PYTHON' 'NUMPY' 'PANDAS']\n"
          ]
        }
      ]
    },
    {
      "cell_type": "markdown",
      "source": [
        "Question 6: Generate a NumPy array of words. Insert a space between each character of every word in the array"
      ],
      "metadata": {
        "id": "bHWgM2ew52_6"
      }
    },
    {
      "cell_type": "code",
      "source": [
        "import numpy as np\n",
        "\n",
        "# Step 1: Create the NumPy array of words\n",
        "words = np.array(['python', 'numpy', 'pandas'])\n",
        "print(\"Original array:\", words)\n",
        "\n",
        "# Step 2: Insert a space between each character of every word\n",
        "def insert_spaces(word):\n",
        "    return ' '.join(list(word))\n",
        "\n",
        "spaced_words = np.array([insert_spaces(word) for word in words])\n",
        "print(\"Array with spaces between characters:\", spaced_words)\n"
      ],
      "metadata": {
        "colab": {
          "base_uri": "https://localhost:8080/"
        },
        "id": "DCWA2Ye361ww",
        "outputId": "c18f6c4a-7fb0-4c18-9cea-86b97b8cc355"
      },
      "execution_count": 27,
      "outputs": [
        {
          "output_type": "stream",
          "name": "stdout",
          "text": [
            "Original array: ['python' 'numpy' 'pandas']\n",
            "Array with spaces between characters: ['p y t h o n' 'n u m p y' 'p a n d a s']\n"
          ]
        }
      ]
    },
    {
      "cell_type": "markdown",
      "source": [
        "Question 7:  Create two 2D NumPy arrays and perform element-wise addition, subtraction, multiplication, and division."
      ],
      "metadata": {
        "id": "qlXVmSPk8SNT"
      }
    },
    {
      "cell_type": "code",
      "source": [
        "import numpy as np\n",
        "\n",
        "# Create two 2D arrays\n",
        "array1 = np.array([[1, 2, 3], [4, 5, 6]])\n",
        "array2 = np.array([[7, 8, 9], [10, 11, 12]])\n",
        "print(\"Array 1:\\n\", array1)\n",
        "print(\"Array 2:\\n\", array2)\n"
      ],
      "metadata": {
        "colab": {
          "base_uri": "https://localhost:8080/"
        },
        "id": "iqXvviLG8Xba",
        "outputId": "c65af4fb-1e32-4ccd-fe25-305ddbf4c131"
      },
      "execution_count": 31,
      "outputs": [
        {
          "output_type": "stream",
          "name": "stdout",
          "text": [
            "Array 1:\n",
            " [[1 2 3]\n",
            " [4 5 6]]\n",
            "Array 2:\n",
            " [[ 7  8  9]\n",
            " [10 11 12]]\n"
          ]
        }
      ]
    },
    {
      "cell_type": "code",
      "source": [
        "# addition\n",
        "addition = np.add(array1,array2)\n",
        "print(\"Element-wise  Addition:\\n\",addition)"
      ],
      "metadata": {
        "colab": {
          "base_uri": "https://localhost:8080/"
        },
        "id": "gyzBjSit9fdD",
        "outputId": "94356c7b-5470-4ddd-fb4b-14b017db91a1"
      },
      "execution_count": 33,
      "outputs": [
        {
          "output_type": "stream",
          "name": "stdout",
          "text": [
            "Element-wise  Addition:\n",
            " [[ 8 10 12]\n",
            " [14 16 18]]\n"
          ]
        }
      ]
    },
    {
      "cell_type": "code",
      "source": [
        "# subtract\n",
        "subtraction=np.subtract(array1,array2)\n",
        "print(\"Element-wise Subtraction:\\n\",subtraction)"
      ],
      "metadata": {
        "colab": {
          "base_uri": "https://localhost:8080/"
        },
        "id": "O0fH5BQ39zcz",
        "outputId": "13de289e-97ea-485b-a4f4-5cc230611f0b"
      },
      "execution_count": 36,
      "outputs": [
        {
          "output_type": "stream",
          "name": "stdout",
          "text": [
            "Element-wise Subtraction:\n",
            " [[-6 -6 -6]\n",
            " [-6 -6 -6]]\n"
          ]
        }
      ]
    },
    {
      "cell_type": "code",
      "source": [
        "# multiply\n",
        "multiplication= np.multiply(array1,array2)\n",
        "print(\"Element-wise multiplication:\\n\",multiplication)"
      ],
      "metadata": {
        "colab": {
          "base_uri": "https://localhost:8080/"
        },
        "id": "ry2Yzy6l-VLb",
        "outputId": "cf3a6e39-7d61-4fc6-9f79-8d86edd3d061"
      },
      "execution_count": 38,
      "outputs": [
        {
          "output_type": "stream",
          "name": "stdout",
          "text": [
            "Element-wise multiplication:\n",
            " [[ 7 16 27]\n",
            " [40 55 72]]\n"
          ]
        }
      ]
    },
    {
      "cell_type": "code",
      "source": [
        "# Divide\n",
        "division=np.divide(array1,array2)\n",
        "print(\"Element-wise division:\\n\",division)"
      ],
      "metadata": {
        "colab": {
          "base_uri": "https://localhost:8080/"
        },
        "id": "X7rq8DNz-x_0",
        "outputId": "26a301e1-32a0-4657-c569-275c1c769d87"
      },
      "execution_count": 39,
      "outputs": [
        {
          "output_type": "stream",
          "name": "stdout",
          "text": [
            "Element-wise division:\n",
            " [[0.14285714 0.25       0.33333333]\n",
            " [0.4        0.45454545 0.5       ]]\n"
          ]
        }
      ]
    },
    {
      "cell_type": "markdown",
      "source": [
        "Question 8: Use NumPy to create a 5x5 identity matrix, then extract its diagonal elements."
      ],
      "metadata": {
        "id": "UbEAGJBG_UpE"
      }
    },
    {
      "cell_type": "code",
      "source": [
        "import numpy as np\n",
        "identity_matrix=np.eye(5)\n",
        "print(\"5*5 identity_matrix :\\n\",identity_matrix)\n",
        "\n",
        "# extract diagonal element\n",
        "diagonal_element=np.diag(identity_matrix)\n",
        "print(\"Diagonal element\",diagonal_element)"
      ],
      "metadata": {
        "colab": {
          "base_uri": "https://localhost:8080/"
        },
        "id": "4qp98v2J_XuT",
        "outputId": "48a01340-f7c2-4cc4-b35b-beced7f8af72"
      },
      "execution_count": 48,
      "outputs": [
        {
          "output_type": "stream",
          "name": "stdout",
          "text": [
            "5*5 identity_matrix :\n",
            " [[1. 0. 0. 0. 0.]\n",
            " [0. 1. 0. 0. 0.]\n",
            " [0. 0. 1. 0. 0.]\n",
            " [0. 0. 0. 1. 0.]\n",
            " [0. 0. 0. 0. 1.]]\n",
            "Diagonal element [1. 1. 1. 1. 1.]\n"
          ]
        }
      ]
    },
    {
      "cell_type": "markdown",
      "source": [
        "Question 9:  Generate a NumPy array of 100 random integers between 0 and 1000. Find and display all prime numbers in\n",
        "this array."
      ],
      "metadata": {
        "id": "jLnb57G5AnaG"
      }
    },
    {
      "cell_type": "code",
      "source": [
        "array_integers=np.random.randint(0,1000,(100))\n",
        "print(\"Random integers:\\n\",array_integers)\n",
        "\n",
        "# function for prime number\n",
        "def is_prime(n):\n",
        "  if n<=1:\n",
        "    return False\n",
        "\n",
        "  for i in range(2,int(np.sqrt(n))+1):\n",
        "    if n%i==0:\n",
        "      return False\n",
        "  return True\n",
        "\n",
        "# display all prime numbers\n",
        "\n",
        "prime_numbers=np.array([num for num in array_integers if is_prime(num)])\n",
        "\n",
        "print(\"Prime numbers in the Array:\\n\",prime_numbers)"
      ],
      "metadata": {
        "colab": {
          "base_uri": "https://localhost:8080/"
        },
        "id": "oN8KfszQA4TM",
        "outputId": "29627205-2f11-4cb8-a05b-9ca871bc6549"
      },
      "execution_count": 55,
      "outputs": [
        {
          "output_type": "stream",
          "name": "stdout",
          "text": [
            "Random integers:\n",
            " [ 33 486 265 688 174 610 948 937 452  63  96 205 224 696 682 379 872 103\n",
            " 652 719  96 300 324 328 194 241 143 459 813 931 735  76 858 976 620 445\n",
            "  38 544 841 219 727 238 854 791 711 433 702 516 299 745 689 608 855 523\n",
            " 566 460 866 857 693 543 819  11 347 152 766  91 990 854 332 488 340 170\n",
            " 347 637  64 225 716 722 178 206 123 208 545 348 253 904 820 958 629 825\n",
            "  75 534 333 478 686 268 221 770 476 624]\n",
            "Prime numbers in the Array:\n",
            " [937 379 103 719 241 727 433 523 857  11 347 347]\n"
          ]
        }
      ]
    },
    {
      "cell_type": "markdown",
      "source": [
        "Question 10:Create a NumPy array representing daily temperatures for a month. Calculate and display the weekly\n",
        "averages."
      ],
      "metadata": {
        "id": "tV5QQjvsEvNo"
      }
    },
    {
      "cell_type": "code",
      "source": [
        "import numpy as np\n",
        "\n",
        "# Step 1: Create the NumPy array of daily temperatures\n",
        "daily_temperatures = np.random.randint(15, 35, size=30)  # Random temperatures between 15°C and 35°C\n",
        "print(\"Daily Temperatures:\\n\", daily_temperatures)\n",
        "\n",
        "# Step 2: Calculate the weekly averages\n",
        "weekly_temperatures = np.array_split(daily_temperatures, 4)  # Split into 4 weeks\n",
        "weekly_averages = [np.mean(week) for week in weekly_temperatures]  # Calculate weekly averages\n",
        "print(\"Weekly Averages:\\n\", weekly_averages)\n"
      ],
      "metadata": {
        "colab": {
          "base_uri": "https://localhost:8080/"
        },
        "id": "XHKglHRqFsi2",
        "outputId": "403cd7aa-aabf-486f-f032-a7f51d4f1c9a"
      },
      "execution_count": 63,
      "outputs": [
        {
          "output_type": "stream",
          "name": "stdout",
          "text": [
            "Daily Temperatures:\n",
            " [34 18 20 15 23 24 18 23 18 33 32 19 15 16 34 18 24 26 26 20 15 28 18 29\n",
            " 30 20 34 17 34 31]\n",
            "Weekly Averages:\n",
            " [21.875, 23.125, 22.428571428571427, 27.857142857142858]\n"
          ]
        }
      ]
    },
    {
      "cell_type": "code",
      "source": [],
      "metadata": {
        "id": "Uducp63WFwjV"
      },
      "execution_count": null,
      "outputs": []
    }
  ]
}